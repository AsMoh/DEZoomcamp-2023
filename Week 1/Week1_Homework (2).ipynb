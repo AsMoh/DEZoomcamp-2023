{
 "cells": [
  {
   "cell_type": "markdown",
   "id": "8a251557",
   "metadata": {},
   "source": [
    "## Week 1 Homework\n",
    "\n",
    "In this homework we'll prepare the environment \n",
    "and practice with Docker and SQL\n"
   ]
  },
  {
   "cell_type": "markdown",
   "id": "7c93187e",
   "metadata": {},
   "source": [
    "## Question 1. Knowing docker tags\n",
    "\n",
    "Run the command to get information on Docker \n",
    "\n",
    "```docker --help```\n",
    "\n",
    "Now run the command to get help on the \"docker build\" command\n",
    "\n",
    "Which tag has the following text? - *Write the image ID to the file* \n",
    "\n",
    "- `--imageid string`\n",
    "- `--iidfile string`\n",
    "- `--idimage string`\n",
    "- `--idfile string`"
   ]
  },
  {
   "cell_type": "markdown",
   "id": "f09cbd85",
   "metadata": {},
   "source": [
    "ans:   --iidfile string          Write the image ID to the file"
   ]
  },
  {
   "cell_type": "markdown",
   "id": "da85d128",
   "metadata": {},
   "source": [
    "## Question 2. Understanding docker first run \n",
    "\n",
    "Run docker with the python:3.9 image in an interactive mode and the entrypoint of bash.\n",
    "Now check the python modules that are installed ( use pip list). \n",
    "How many python packages/modules are installed?\n",
    "\n",
    "- 1\n",
    "- 6\n",
    "- 3\n",
    "- 7"
   ]
  },
  {
   "cell_type": "markdown",
   "id": "05f0c1d8",
   "metadata": {},
   "source": [
    "ans: 3"
   ]
  },
  {
   "cell_type": "markdown",
   "id": "9c184e05",
   "metadata": {},
   "source": [
    "\n",
    "# Prepare Postgres\n",
    "\n",
    "Run Postgres and load data as shown in the videos\n",
    "We'll use the green taxi trips from January 2019:\n",
    "\n",
    "```wget https://github.com/DataTalksClub/nyc-tlc-data/releases/download/green/green_tripdata_2019-01.csv.gz```\n",
    "\n",
    "You will also need the dataset with zones:\n",
    "\n",
    "```wget https://s3.amazonaws.com/nyc-tlc/misc/taxi+_zone_lookup.csv```\n",
    "\n",
    "Download this data and put it into Postgres (with jupyter notebooks or with a pipeline)\n",
    "\n",
    "\n",
    "## Question 3. Count records \n",
    "\n",
    "How many taxi trips were totally made on January 15?\n",
    "\n",
    "Tip: started and finished on 2019-01-15. \n",
    "\n",
    "Remember that `lpep_pickup_datetime` and `lpep_dropoff_datetime` columns are in the format timestamp (date and hour+min+sec) and not in date.\n",
    "\n",
    "- 20689\n",
    "- 20530\n",
    "- 17630\n",
    "- 21090"
   ]
  },
  {
   "cell_type": "markdown",
   "id": "aae68b0b",
   "metadata": {},
   "source": [
    "```\n",
    "\n",
    "SELECT count(*) FROM green_taxi_trips\n",
    "\n",
    "where Date(lpep_pickup_datetime) = '2019-01-15' and Date(lpep_dropoff_datetime) ='2019-01-15';\n",
    "\n",
    "\n",
    "```\n",
    "\n",
    "ans:= 20530\n"
   ]
  },
  {
   "cell_type": "markdown",
   "id": "84d7c46e",
   "metadata": {},
   "source": [
    "\n",
    "\n",
    "\n",
    "\n",
    "## Question 4. Largest trip for each day\n",
    "\n",
    "Which was the day with the largest trip distance\n",
    "Use the pick up time for your calculations.\n",
    "\n",
    "- 2019-01-18\n",
    "- 2019-01-28\n",
    "- 2019-01-15\n",
    "- 2019-01-10"
   ]
  },
  {
   "cell_type": "markdown",
   "id": "4525b80b",
   "metadata": {},
   "source": [
    "ans: 2019-01-15\n",
    "\n",
    "```\n",
    "SElECT Date(lpep_pickup_datetime) , trip_distance\n",
    "\n",
    "FROM green_taxi_trips\n",
    "\n",
    "ORDER by trip_distance DESC;\n",
    "```\n",
    "\n"
   ]
  },
  {
   "cell_type": "markdown",
   "id": "0423cdf9",
   "metadata": {},
   "source": [
    "\n",
    "\n",
    "\n",
    "\n",
    "\n",
    "\n",
    "## Question 5. The number of passengers\n",
    "\n",
    "In 2019-01-01 how many trips had 2 and 3 passengers?\n",
    " \n",
    "- 2: 1282 ; 3: 266\n",
    "- 2: 1532 ; 3: 126\n",
    "- 2: 1282 ; 3: 254\n",
    "- 2: 1282 ; 3: 274"
   ]
  },
  {
   "cell_type": "markdown",
   "id": "8eba236d",
   "metadata": {},
   "source": [
    "ans: 2:1282 , 3:254\n",
    "\n",
    "<br>\n",
    "    \n",
    "```\n",
    "SElECT passenger_count , count(*) \n",
    "\n",
    "FROM green_taxi_trips\n",
    "\n",
    "WHERE Date(lpep_pickup_datetime) = '2019-01-01' AND \n",
    "\t(passenger_count = 2 OR passenger_count = 3)\n",
    "\t\n",
    "GROUP by passenger_count;\n",
    "\n",
    "\n",
    "\n",
    "```\n",
    "\n",
    "\n"
   ]
  },
  {
   "cell_type": "markdown",
   "id": "b320c677",
   "metadata": {},
   "source": [
    "\n",
    "\n",
    "\n",
    "## Question 6. Largest tip\n",
    "\n",
    "For the passengers picked up in the Astoria Zone, which was the drop off zone that had the largest tip?\n",
    "We want the name of the zone, not the id.\n",
    "\n",
    "Note: it's not a typo, it's `tip` , not `trip`\n",
    "\n",
    "- Central Park\n",
    "- Jamaica\n",
    "- South Ozone Park\n",
    "- Long Island City/Queens Plaza"
   ]
  },
  {
   "cell_type": "markdown",
   "id": "178634ec",
   "metadata": {},
   "source": [
    "ans: Long Island City/Queens Plaza"
   ]
  },
  {
   "cell_type": "markdown",
   "id": "11a0f392",
   "metadata": {},
   "source": [
    "```\n",
    "SElECT gt.\"tip_amount\" , tzz.\"Zone\"\n",
    "\n",
    "FROM green_taxi_trips gt INNER JOIN taxi_zone tz\n",
    "ON gt.\"PULocationID\" = tz.\"LocationID\"\n",
    "\n",
    "JOIN taxi_zone tzz ON gt.\"DOLocationID\" = tzz.\"LocationID\"\n",
    "\n",
    "WHERE tz.\"Zone\" ='Astoria' \n",
    "\n",
    "ORDER BY gt.\"tip_amount\" DESC\n",
    "\n",
    "LIMIT 3;\n",
    "```"
   ]
  },
  {
   "cell_type": "markdown",
   "id": "49c817a8",
   "metadata": {},
   "source": [
    "\n",
    "\n",
    "\n",
    "## Submitting the solutions\n",
    "\n",
    "* Form for submitting: [form](https://forms.gle/EjphSkR1b3nsdojv7)\n",
    "* You can submit your homework multiple times. In this case, only the last submission will be used. \n",
    "\n",
    "Deadline: 30 January (Monday), 22:00 CET\n",
    "\n",
    "\n",
    "## Solution\n",
    "\n",
    "We will publish the solution here"
   ]
  },
  {
   "cell_type": "code",
   "execution_count": null,
   "id": "3775de37",
   "metadata": {},
   "outputs": [],
   "source": []
  }
 ],
 "metadata": {
  "kernelspec": {
   "display_name": "Python 3 (ipykernel)",
   "language": "python",
   "name": "python3"
  },
  "language_info": {
   "codemirror_mode": {
    "name": "ipython",
    "version": 3
   },
   "file_extension": ".py",
   "mimetype": "text/x-python",
   "name": "python",
   "nbconvert_exporter": "python",
   "pygments_lexer": "ipython3",
   "version": "3.9.13"
  }
 },
 "nbformat": 4,
 "nbformat_minor": 5
}
